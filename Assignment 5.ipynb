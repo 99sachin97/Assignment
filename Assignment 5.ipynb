{
 "cells": [
  {
   "cell_type": "markdown",
   "id": "20d82729-1f41-4b9a-a839-9e2acd895cfd",
   "metadata": {},
   "source": [
    "Q.1-Create a paython program to sort the given list of tuple based on integer value using a lambda function,\n",
    "   [('Sachin Tendulkar',34357),('Ricky Ponting',27483),('Jack Kallis',25534),('Virat Kholi',24936)"
   ]
  },
  {
   "cell_type": "code",
   "execution_count": 4,
   "id": "6e88dc74-2094-472b-a936-133396bd63e4",
   "metadata": {},
   "outputs": [
    {
     "name": "stdout",
     "output_type": "stream",
     "text": [
      "[('Sachin Tendulkar', 34357), ('Ricky Ponting', 27483), ('Jack Kallis', 25534), ('Virat Kholi', 24936)]\n"
     ]
    }
   ],
   "source": [
    "players =[(\"Sachin Tendulkar\" , 34357),(\"Ricky Ponting\" , 27483),(\"Jack Kallis\" , 25534),(\"Virat Kholi\",24936)]\n",
    "          \n",
    "sorted_players=sorted(players,key=lambda x:x[1],reverse = True)\n",
    "print(sorted_players)"
   ]
  },
  {
   "cell_type": "markdown",
   "id": "e39ffc68-a4a1-47ab-ab3a-41537292488c",
   "metadata": {},
   "source": [
    "Q.2- Write a paython program to find the squares of all numbers in the given list of integers using\n",
    "     lambda and map functions.[1,2,3,4,5,6,7,8,9,10]"
   ]
  },
  {
   "cell_type": "code",
   "execution_count": 5,
   "id": "b65737b1-9043-4631-a94c-bc008b9b1a1e",
   "metadata": {},
   "outputs": [
    {
     "name": "stdout",
     "output_type": "stream",
     "text": [
      "[1, 4, 9, 16, 25, 36, 49, 64, 81, 100]\n"
     ]
    }
   ],
   "source": [
    "numbers = [1,2,3,4,5,6,7,8,9,10]\n",
    "\n",
    "squred_numbers = list(map(lambda x:x**2,numbers))\n",
    "print(squred_numbers)\n",
    "\n"
   ]
  },
  {
   "cell_type": "markdown",
   "id": "456740e9-6f4f-44a7-9045-d499200c377d",
   "metadata": {},
   "source": [
    "Q.3- Write a paython program to convert the gven list of integers into a tuple of strings. Use map and lambda functions.\n",
    "     Given String:[1,2,3,4,5,6,7,8,9,10]\n",
    "     Expected output:('1','2','3','4','5','6','7','8','9','10')"
   ]
  },
  {
   "cell_type": "code",
   "execution_count": 7,
   "id": "ee8dee2d-890f-40c5-9b50-2c464555ba53",
   "metadata": {},
   "outputs": [
    {
     "name": "stdout",
     "output_type": "stream",
     "text": [
      "('1', '2', '3', '4', '5', '6', '7', '8', '9', '10')\n"
     ]
    }
   ],
   "source": [
    "numbers = [1,2,3,4,5,6,7,8,9,10]\n",
    "int_numbers=tuple(map(lambda x:str(x), numbers))\n",
    "print(int_numbers)"
   ]
  },
  {
   "cell_type": "markdown",
   "id": "bb8e19c3-df99-4ddd-b63d-982400eef0b7",
   "metadata": {},
   "source": [
    "Q.4- Write a paython program using reduce function to compute the product of a list containing number from 1 to 25."
   ]
  },
  {
   "cell_type": "code",
   "execution_count": 10,
   "id": "9a4921a4-e07e-4962-8721-b265f7b0071b",
   "metadata": {},
   "outputs": [
    {
     "name": "stdout",
     "output_type": "stream",
     "text": [
      "15511210043330985984000000\n"
     ]
    }
   ],
   "source": [
    "from functools import reduce\n",
    "numbers = range(1,26)\n",
    "product = reduce(lambda x,y:x*y ,numbers)\n",
    "print(product)"
   ]
  },
  {
   "cell_type": "markdown",
   "id": "b09a3fdd-e3bd-4c0a-bfa6-9e60d5876ab6",
   "metadata": {},
   "source": [
    "Q.5- Write a paython program to filter the numbers in a given list that are divisible by 2 and 3 using the filter function.\n",
    "[2,3,6,9,27,60,90,120,55,46]"
   ]
  },
  {
   "cell_type": "code",
   "execution_count": 13,
   "id": "7b9484fb-ab16-4cc3-a6ac-b8fbfee029bf",
   "metadata": {},
   "outputs": [
    {
     "name": "stdout",
     "output_type": "stream",
     "text": [
      "[6, 60, 90, 120]\n"
     ]
    }
   ],
   "source": [
    "numbers = [2,3,6,9,27,60,90,120,55,46]\n",
    "\n",
    "filtered_numbers = list(filter(lambda x : x%2==0 and x%3==0, numbers))\n",
    "\n",
    "print(filtered_numbers)"
   ]
  },
  {
   "cell_type": "markdown",
   "id": "f51a6d61-ec05-4003-8f5d-d56ec09d9b00",
   "metadata": {},
   "source": [
    "Q.6- Write a python program to find palindomes in the given list of string using lambda function and filter function.\n",
    "    ['python','php','aba','radar','level',]"
   ]
  },
  {
   "cell_type": "code",
   "execution_count": 15,
   "id": "caee04cb-edf4-4c11-bcc6-ba7aae5f9577",
   "metadata": {},
   "outputs": [
    {
     "name": "stdout",
     "output_type": "stream",
     "text": [
      "['python', 'php', 'aba', 'radar', 'level']\n"
     ]
    }
   ],
   "source": [
    "string=['python','php','aba','radar','level',]\n",
    "str_fun = list(filter(lambda x:x==x,string))\n",
    "print(str_fun)"
   ]
  },
  {
   "cell_type": "code",
   "execution_count": null,
   "id": "ee22ce84-862c-4956-b0a3-299fc5ebb4b7",
   "metadata": {},
   "outputs": [],
   "source": []
  }
 ],
 "metadata": {
  "kernelspec": {
   "display_name": "Python 3 (ipykernel)",
   "language": "python",
   "name": "python3"
  },
  "language_info": {
   "codemirror_mode": {
    "name": "ipython",
    "version": 3
   },
   "file_extension": ".py",
   "mimetype": "text/x-python",
   "name": "python",
   "nbconvert_exporter": "python",
   "pygments_lexer": "ipython3",
   "version": "3.10.6"
  }
 },
 "nbformat": 4,
 "nbformat_minor": 5
}
