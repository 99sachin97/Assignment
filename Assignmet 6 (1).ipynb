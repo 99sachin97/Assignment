{
 "cells": [
  {
   "cell_type": "markdown",
   "id": "b998301e",
   "metadata": {},
   "source": [
    "Q.1- Explain Class and Object with respect to Object-Oriented Programming. Give a suitable example. A class is a blueprint for      creating objects providing initial values for state, and implementation of behavior. An object is an instance of a class,      created at runtime. Each object has its own unique set of attributes and methods that operate on that data."
   ]
  },
  {
   "cell_type": "code",
   "execution_count": 1,
   "id": "94030a8b",
   "metadata": {},
   "outputs": [
    {
     "name": "stdout",
     "output_type": "stream",
     "text": [
      "Toyota\n",
      "Carmy\n",
      "2022\n"
     ]
    },
    {
     "ename": "AttributeError",
     "evalue": "'Car' object has no attribute 'odometer_reading'",
     "output_type": "error",
     "traceback": [
      "\u001b[1;31m---------------------------------------------------------------------------\u001b[0m",
      "\u001b[1;31mAttributeError\u001b[0m                            Traceback (most recent call last)",
      "\u001b[1;32m~\\AppData\\Local\\Temp\\ipykernel_3400\\1029520271.py\u001b[0m in \u001b[0;36m<module>\u001b[1;34m\u001b[0m\n\u001b[0;32m     15\u001b[0m \u001b[0mprint\u001b[0m\u001b[1;33m(\u001b[0m\u001b[0mmy_car\u001b[0m\u001b[1;33m.\u001b[0m\u001b[0mmodel\u001b[0m\u001b[1;33m)\u001b[0m\u001b[1;33m\u001b[0m\u001b[1;33m\u001b[0m\u001b[0m\n\u001b[0;32m     16\u001b[0m \u001b[0mprint\u001b[0m\u001b[1;33m(\u001b[0m\u001b[0mmy_car\u001b[0m\u001b[1;33m.\u001b[0m\u001b[0myear\u001b[0m\u001b[1;33m)\u001b[0m\u001b[1;33m\u001b[0m\u001b[1;33m\u001b[0m\u001b[0m\n\u001b[1;32m---> 17\u001b[1;33m \u001b[0mprint\u001b[0m\u001b[1;33m(\u001b[0m\u001b[0mmy_car\u001b[0m\u001b[1;33m.\u001b[0m\u001b[0modometer_reading\u001b[0m\u001b[1;33m)\u001b[0m\u001b[1;33m\u001b[0m\u001b[1;33m\u001b[0m\u001b[0m\n\u001b[0m\u001b[0;32m     18\u001b[0m \u001b[0mprint\u001b[0m\u001b[1;33m(\u001b[0m\u001b[0mmy_car\u001b[0m\u001b[1;33m.\u001b[0m\u001b[0mdescription\u001b[0m\u001b[1;33m(\u001b[0m\u001b[1;33m)\u001b[0m\u001b[1;33m)\u001b[0m\u001b[1;33m\u001b[0m\u001b[1;33m\u001b[0m\u001b[0m\n",
      "\u001b[1;31mAttributeError\u001b[0m: 'Car' object has no attribute 'odometer_reading'"
     ]
    }
   ],
   "source": [
    "#Example\n",
    "\n",
    "class Car:\n",
    "    def __init__(self,name,model,year):\n",
    "        self.name=name\n",
    "        self.model=model\n",
    "        self.year=year\n",
    "        self.odometer_reding = 0\n",
    "        \n",
    "    def description(self):\n",
    "        return  f\"{self.name} {self.model}, menufactured in {self.year}\"\n",
    "    \n",
    "my_car=Car(\"Toyota\",\"Carmy\",2022)\n",
    "print(my_car.name)\n",
    "print(my_car.model)\n",
    "print(my_car.year)\n",
    "print(my_car.odometer_reading)\n",
    "print(my_car.description())"
   ]
  },
  {
   "cell_type": "markdown",
   "id": "710aebd3",
   "metadata": {},
   "source": [
    "Q.2- Name the for pillers of OOPs."
   ]
  },
  {
   "cell_type": "markdown",
   "id": "739de8ce",
   "metadata": {},
   "source": [
    "# ANS --\n",
    "     1. Encapsulation\n",
    "     2. Inheritance\n",
    "     3. Polymorphism\n",
    "     4. Abstraction"
   ]
  },
  {
   "cell_type": "raw",
   "id": "fef955cd",
   "metadata": {},
   "source": [
    "Q.3- Explain why the init() function is used. Give a suitable example.\n",
    "\n",
    "     The init method is a spacial method in python classes that acts as a constructer. It is automatically called \n",
    "     when an object of the class in created. The init method is used to initialize the attributes of the class and \n",
    "     set the default values."
   ]
  },
  {
   "cell_type": "code",
   "execution_count": 2,
   "id": "ae8c883e",
   "metadata": {},
   "outputs": [
    {
     "name": "stdout",
     "output_type": "stream",
     "text": [
      "Toyota\n",
      "Carmy\n",
      "2022\n"
     ]
    }
   ],
   "source": [
    "# Example\n",
    "\n",
    "class Car:\n",
    "    def __init__(self,name,model,year):\n",
    "        self.name=name\n",
    "        self.model=model\n",
    "        self.year=year\n",
    "        \n",
    "my_car=Car(\"Toyota\",\"Carmy\",2022)\n",
    "print(my_car.name)\n",
    "print(my_car.model)\n",
    "print(my_car.year)\n",
    "        "
   ]
  },
  {
   "cell_type": "markdown",
   "id": "dd019554",
   "metadata": {},
   "source": [
    "Q.4- Why self is used in OOPs?"
   ]
  },
  {
   "cell_type": "markdown",
   "id": "2e3a1418",
   "metadata": {},
   "source": [
    "# ANS--  \n",
    "             self is a refrence ti the current instance of the class It is used to access the attributes and methods of the                   class within the class definition."
   ]
  },
  {
   "cell_type": "markdown",
   "id": "2c0a5b83",
   "metadata": {},
   "source": [
    "Q.5- What is inheritance? Give an example for each type of inheritence."
   ]
  },
  {
   "cell_type": "markdown",
   "id": "246ed61a",
   "metadata": {},
   "source": [
    "##Ans      \n",
    "        inheritance is a mechanism in object-oriented programming that allows a new class to bee derived from an existing \n",
    "        class, inheriting its attributes and behavior. This is useful for creating new classes new classes that are related\n",
    "        to existing classes and share some of their functionality.\n",
    "        \n",
    "        Type of inheritance\n",
    "        1.single Inheritance\n",
    "        2.Multiple Inheritance\n",
    "        3.Multilevel Inheritance\n",
    "        4.Hierarchical Inheritance\n",
    "        5.Hybrid Inheritance"
   ]
  },
  {
   "cell_type": "code",
   "execution_count": 3,
   "id": "cd4be204",
   "metadata": {},
   "outputs": [
    {
     "name": "stdout",
     "output_type": "stream",
     "text": [
      "this function is in parent class\n",
      "this function is in child class\n"
     ]
    }
   ],
   "source": [
    "# 1 single inheritance\n",
    "class parent:\n",
    "    def func1(self):\n",
    "        print(\"this function is in parent class\")\n",
    "class child(parent):\n",
    "    def func2(self):\n",
    "        print(\"this function is in child class\")\n",
    "        \n",
    "object=child()\n",
    "object.func1()\n",
    "object.func2()"
   ]
  },
  {
   "cell_type": "code",
   "execution_count": 4,
   "id": "ba545677",
   "metadata": {},
   "outputs": [
    {
     "name": "stdout",
     "output_type": "stream",
     "text": [
      "father : RAM\n",
      "mother : SITA\n"
     ]
    }
   ],
   "source": [
    "# 2 Multiple inheritance\n",
    "class mother:\n",
    "    mothername=\"\"\n",
    "    \n",
    "    def mother(self):\n",
    "        print(self.mothername)\n",
    "        \n",
    "class father:\n",
    "    fathername=\"\"\n",
    "    \n",
    "    def father(self):\n",
    "        print(self.fathername)\n",
    "        \n",
    "class son(mother, father):\n",
    "    def parents(self):\n",
    "        print(\"father :\",self.fathername)\n",
    "        print(\"mother :\",self.mothername)\n",
    "        \n",
    "s1=son()\n",
    "s1.fathername=\"RAM\"\n",
    "s1.mothername=\"SITA\"\n",
    "s1.parents()"
   ]
  },
  {
   "cell_type": "code",
   "execution_count": 10,
   "id": "d1eef8ff",
   "metadata": {},
   "outputs": [
    {
     "name": "stdout",
     "output_type": "stream",
     "text": [
      "Lal mani\n",
      "Grandfather name : Lal mani\n",
      "Father name : Rampal\n",
      "Son name : Prince\n"
     ]
    }
   ],
   "source": [
    "# 3 Multilevel Inheritance\n",
    "class Grandfather:\n",
    "    \n",
    "    def __init__(self, grandfathername):\n",
    "        self.grandfathername=grandfathername\n",
    "        \n",
    "class Father(Grandfather):\n",
    "    def __init__(self,fathername,grandfathername):\n",
    "        self.fathername=fathername\n",
    "        \n",
    "        \n",
    "        Grandfather.__init__(self, grandfathername)\n",
    "        \n",
    "        \n",
    "class Son(Father):\n",
    "    def __init__(self, sonname, fathername, grandfathername):\n",
    "        self.sonname=sonname\n",
    "        \n",
    "        \n",
    "        Father.__init__(self, fathername, grandfathername)\n",
    "        \n",
    "    def print_name(self):\n",
    "            print('Grandfather name :',self.grandfathername)\n",
    "            print(\"Father name :\",self.fathername)\n",
    "            print(\"Son name :\",self.sonname)\n",
    "            \n",
    "            \n",
    "s1=Son('Prince', 'Rampal', 'Lal mani')\n",
    "print(s1.grandfathername)\n",
    "s1.print_name()"
   ]
  },
  {
   "cell_type": "code",
   "execution_count": 12,
   "id": "ed30c9fe",
   "metadata": {},
   "outputs": [
    {
     "name": "stdout",
     "output_type": "stream",
     "text": [
      "this function is in parent class.\n",
      "this function is in child 1.\n",
      "this function is in parent class.\n",
      "this function is in child 2.\n"
     ]
    }
   ],
   "source": [
    "# 4 Hierarchical Inheritance\n",
    "class parent:\n",
    "    def func1(self):\n",
    "        print(\"this function is in parent class.\")\n",
    "        \n",
    "        \n",
    "class child1(parent):\n",
    "    def func2(self):\n",
    "        print(\"this function is in child 1.\")\n",
    "        \n",
    "        \n",
    "class child2(parent):\n",
    "    def func3(self):\n",
    "        print(\"this function is in child 2.\")\n",
    "        \n",
    "        \n",
    "object1=child1()\n",
    "object2=child2()\n",
    "object1.func1()\n",
    "object1.func2()\n",
    "object2.func1()\n",
    "object2.func3()"
   ]
  },
  {
   "cell_type": "code",
   "execution_count": 14,
   "id": "231176e4",
   "metadata": {},
   "outputs": [
    {
     "name": "stdout",
     "output_type": "stream",
     "text": [
      "this function is in school\n",
      "this function is in student 1.\n"
     ]
    }
   ],
   "source": [
    "# Hybrid Inheritance\n",
    "class school:\n",
    "    def func1(self):\n",
    "        print(\"this function is in school\")\n",
    "        \n",
    "        \n",
    "class student1(school):\n",
    "    def func2(self):\n",
    "        print(\"this function is in student 1.\")\n",
    "        \n",
    "        \n",
    "class student2(school):\n",
    "    def func3(self):\n",
    "        print(\"this function is in student 2.\")\n",
    "        \n",
    "        \n",
    "class student3(student1, school):\n",
    "    def func4(self):\n",
    "        print(\"this function is in student 3.\")\n",
    "        \n",
    "        \n",
    "        \n",
    "object=student3()\n",
    "object.func1()\n",
    "object.func2()\n"
   ]
  },
  {
   "cell_type": "code",
   "execution_count": null,
   "id": "91ce60d8",
   "metadata": {},
   "outputs": [],
   "source": []
  }
 ],
 "metadata": {
  "kernelspec": {
   "display_name": "Python 3 (ipykernel)",
   "language": "python",
   "name": "python3"
  },
  "language_info": {
   "codemirror_mode": {
    "name": "ipython",
    "version": 3
   },
   "file_extension": ".py",
   "mimetype": "text/x-python",
   "name": "python",
   "nbconvert_exporter": "python",
   "pygments_lexer": "ipython3",
   "version": "3.9.13"
  }
 },
 "nbformat": 4,
 "nbformat_minor": 5
}
